{
 "cells": [
  {
   "cell_type": "code",
   "execution_count": 57,
   "metadata": {},
   "outputs": [
    {
     "name": "stdout",
     "output_type": "stream",
     "text": [
      "Mean Square Error: 0.30231023102311005\n",
      "Mean Absolute Error: 0.5227722772277302\n"
     ]
    },
    {
     "data": {
      "text/plain": [
       "0.30231023102311005"
      ]
     },
     "execution_count": 57,
     "metadata": {},
     "output_type": "execute_result"
    }
   ],
   "source": [
    "import pandas as pd\n",
    "data = pd.read_csv(\"Heart.csv\")\n",
    "data = data.drop(data.columns[0] , axis = 1)\n",
    "data['Count'] = 0\n",
    "data['Rate'] = 0\n",
    "\n",
    "#Data Engineering\n",
    "def dataengg():\n",
    "    data.loc[data['age']>=60 , ['Count']] = 1\n",
    "    data.loc[data['sex']==1 , ['Count']] = data['Count']+1\n",
    "    data.loc[data['trestbps']>=120 , ['Count']] = data['Count']+1\n",
    "    data.loc[data['chol']>200 , ['Count']] =data['Count']+1\n",
    "    data.loc[data['fbs']==1 , ['Count']] = data['Count']+1\n",
    "\n",
    "    data['Rate']= data['Count']/5\n",
    "    \n",
    "    return data\n",
    "\n",
    "\n",
    "\n",
    "#Modelling\n",
    "from sklearn.linear_model import LinearRegression\n",
    "def modelling():\n",
    "    x_train=[]\n",
    "    y_train=[]\n",
    "    x_train = data.iloc[:,0:6]\n",
    "    #print(x_train.head())\n",
    "    y_train = data['Rate']\n",
    "    #print(y_train.head())\n",
    "    \n",
    "    predictor = LinearRegression()\n",
    "    predictor.fit(X=x_train, y=y_train)\n",
    "    \n",
    "    return predictor\n",
    "\n",
    "\n",
    "#Prediction\n",
    "def predict(pred):    \n",
    "    x_test = pd.read_csv(\"Heart.csv\")\n",
    "    output = pred.predict(X=x_test)\n",
    "    #coefficients = predictor.coef_\n",
    "    data['Predicted'] = output\n",
    "    \n",
    "    return output\n",
    "\n",
    "\n",
    "#Model Validation\n",
    "from sklearn.metrics import mean_squared_error\n",
    "from sklearn.metrics import mean_absolute_error\n",
    "from math import sqrt\n",
    "def validation(out):\n",
    "    model_mse = mean_squared_error(data['Rate'], out)\n",
    "    model_mae = mean_absolute_error(data['Rate'], out)\n",
    "    \n",
    "    print(\"Mean Square Error:\",model_mse)\n",
    "    print(\"Mean Absolute Error:\",model_mae)\n",
    "    return model_mse\n",
    "\n",
    "\n",
    "\n",
    "dataengg()\n",
    "pred=modelling()\n",
    "out=predict(pred)\n",
    "validation(out)\n",
    "\n"
   ]
  },
  {
   "cell_type": "code",
   "execution_count": null,
   "metadata": {},
   "outputs": [],
   "source": []
  }
 ],
 "metadata": {
  "kernelspec": {
   "display_name": "Python 3",
   "language": "python",
   "name": "python3"
  },
  "language_info": {
   "codemirror_mode": {
    "name": "ipython",
    "version": 3
   },
   "file_extension": ".py",
   "mimetype": "text/x-python",
   "name": "python",
   "nbconvert_exporter": "python",
   "pygments_lexer": "ipython3",
   "version": "3.7.4"
  }
 },
 "nbformat": 4,
 "nbformat_minor": 2
}
