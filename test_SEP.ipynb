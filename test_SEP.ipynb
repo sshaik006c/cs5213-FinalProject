{
 "cells": [
  {
   "cell_type": "code",
   "execution_count": 22,
   "metadata": {},
   "outputs": [
    {
     "name": "stdout",
     "output_type": "stream",
     "text": [
      "Writing test_SEP.py\n"
     ]
    }
   ],
   "source": [
    "%%file test_SEP.py\n",
    "\n",
    "import ipytest\n",
    "import import_ipynb\n",
    "import SEP\n",
    "\n",
    "def test_dataengg():\n",
    "    x = SEP.dataengg()\n",
    "    assert len(x)==303\n",
    "    \n",
    "def test_modelling():\n",
    "    pred = SEP.modelling()\n",
    "    assert pred is not None \n",
    "\n",
    "def test_predict():\n",
    "    pred= SEP.modelling()\n",
    "    x = SEP.predict(pred)\n",
    "    assert len(x)==303\n",
    "    \n",
    "def test_validation():\n",
    "    pred = SEP.modelling()\n",
    "    out = SEP.predict(pred)\n",
    "    x = SEP.validation(out)\n",
    "    assert x<1\n",
    "\n",
    "\n",
    "        \n"
   ]
  },
  {
   "cell_type": "code",
   "execution_count": null,
   "metadata": {},
   "outputs": [],
   "source": []
  }
 ],
 "metadata": {
  "kernelspec": {
   "display_name": "Python 3",
   "language": "python",
   "name": "python3"
  },
  "language_info": {
   "codemirror_mode": {
    "name": "ipython",
    "version": 3
   },
   "file_extension": ".py",
   "mimetype": "text/x-python",
   "name": "python",
   "nbconvert_exporter": "python",
   "pygments_lexer": "ipython3",
   "version": "3.7.4"
  }
 },
 "nbformat": 4,
 "nbformat_minor": 2
}
